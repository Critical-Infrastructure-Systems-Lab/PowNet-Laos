{
 "cells": [
  {
   "cell_type": "code",
   "execution_count": null,
   "metadata": {},
   "outputs": [],
   "source": [
    "import os\n",
    "import csv\n",
    "import pandas as pd\n",
    "import numpy as np\n",
    "import matplotlib.pyplot as plt"
   ]
  },
  {
   "cell_type": "code",
   "execution_count": null,
   "metadata": {},
   "outputs": [],
   "source": [
    "run_no = 1\n",
    "\n",
    "gen_thermo = pd.read_csv('out_laos_2016_R'+str(run_no)+'_mwh.csv',header=0)\n",
    "gen_hydro = pd.read_csv('out_laos_2016_R'+str(run_no)+'_hydro.csv',header=0) \n",
    "gen_hydro_import = pd.read_csv('out_laos_2016_R'+str(run_no)+'_hydro_import.csv',header=0) \n",
    "\n",
    "###GWh by Node and Type\n",
    "hydro_byplant = round(gen_hydro.groupby(['Node'])['Value'].sum()/1000,1)\n",
    "hydro_import_byplant = round(gen_hydro_import.groupby(['Node'])['Value'].sum()/1000,1)\n",
    "\n",
    "###GWh by Type\n",
    "thermo_bytype = round(gen_thermo.groupby(['Type'])['Value'].sum()/1000,1)\n",
    "\n",
    "tot_EGAT = thermo_bytype['Imp_EGAT'] + hydro_import_byplant['EGATSirindhorn']\n",
    "thermo_bytype['Imp_EGAT'] = tot_EGAT\n",
    "\n",
    "tot_hydro = sum(hydro_byplant)\n",
    "thermo_bytype['hydro'] = tot_hydro\n",
    "\n",
    "thermo_bytype = thermo_bytype.sort_values(ascending=False)\n",
    "\n",
    "thermo_bytype"
   ]
  },
  {
   "cell_type": "code",
   "execution_count": null,
   "metadata": {},
   "outputs": [],
   "source": []
  },
  {
   "cell_type": "code",
   "execution_count": null,
   "metadata": {},
   "outputs": [],
   "source": []
  }
 ],
 "metadata": {
  "kernelspec": {
   "display_name": "Python 3",
   "language": "python",
   "name": "python3"
  },
  "language_info": {
   "codemirror_mode": {
    "name": "ipython",
    "version": 3
   },
   "file_extension": ".py",
   "mimetype": "text/x-python",
   "name": "python",
   "nbconvert_exporter": "python",
   "pygments_lexer": "ipython3",
   "version": "3.7.3"
  }
 },
 "nbformat": 4,
 "nbformat_minor": 2
}
